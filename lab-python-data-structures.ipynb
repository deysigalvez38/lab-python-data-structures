{
 "cells": [
  {
   "cell_type": "markdown",
   "metadata": {
    "tags": []
   },
   "source": [
    "# Lab | Data Structures "
   ]
  },
  {
   "cell_type": "markdown",
   "metadata": {},
   "source": [
    "## Exercise: Managing Customer Orders\n",
    "\n",
    "As part of a business venture, you are starting an online store that sells various products. To ensure smooth operations, you need to develop a program that manages customer orders and inventory.\n",
    "\n",
    "Follow the steps below to complete the exercise:\n",
    "\n",
    "1. Define a list called `products` that contains the following items: \"t-shirt\", \"mug\", \"hat\", \"book\", \"keychain\".\n",
    "\n",
    "2. Create an empty dictionary called `inventory`.\n",
    "\n",
    "3. Ask the user to input the quantity of each product available in the inventory. Use the product names from the `products` list as keys in the `inventory` dictionary and assign the respective quantities as values.\n",
    "\n",
    "4. Create an empty set called `customer_orders`.\n",
    "\n",
    "5. Ask the user to input the name of three products that a customer wants to order (from those in the products list, meaning three products out of \"t-shirt\", \"mug\", \"hat\", \"book\" or \"keychain\". Add each product name to the `customer_orders` set.\n",
    "\n",
    "6. Print the products in the `customer_orders` set.\n",
    "\n",
    "7. Calculate the following order statistics:\n",
    "   - Total Products Ordered: The total number of products in the `customer_orders` set.\n",
    "   - Percentage of Products Ordered: The percentage of products ordered compared to the total available products.\n",
    "   \n",
    "   Store these statistics in a tuple called `order_status`.\n",
    "\n",
    "8. Print the order statistics using the following format:\n",
    "   ```\n",
    "   Order Statistics:\n",
    "   Total Products Ordered: <total_products_ordered>\n",
    "   Percentage of Products Ordered: <percentage_ordered>% \n",
    "   ```\n",
    "\n",
    "9. Update the inventory by subtracting 1 from the quantity of each product. Modify the `inventory` dictionary accordingly.\n",
    "\n",
    "10. Print the updated inventory, displaying the quantity of each product on separate lines.\n",
    "\n",
    "Solve the exercise by implementing the steps using the Python concepts of lists, dictionaries, sets, and basic input/output operations. \n",
    "\n"
   ]
  },
  {
   "cell_type": "code",
   "execution_count": 10,
   "metadata": {},
   "outputs": [
    {
     "name": "stdout",
     "output_type": "stream",
     "text": [
      "Inventory: {'t-shirt': 5, 'mug': 7, 'hat': 6, 'book': 3, 'keychain': 4}\n"
     ]
    }
   ],
   "source": [
    "# 1. Define a list called `products` that contains the following items: \"t-shirt\", \"mug\", \"hat\", \"book\", \"keychain\".\n",
    "products = [\"t-shirt\", \"mug\", \"hat\", \"book\", \"keychain\"]\n",
    "\n",
    "# 2. Create an empty dictionary called `inventory`.\n",
    "inventory = {}\n",
    "\n",
    "# 3. Ask the user to input the quantity of each product available in the inventory. Use the product names from the `products` \n",
    "# list as keys in the `inventory` dictionary and assign the respective quantities as values.\n",
    "for product in products:\n",
    "    quantity = int(input(f\"Enter the available quantity for {product}: \"))  \n",
    "    inventory[product] = quantity  \n",
    "\n",
    "print(\"Inventory:\", inventory)  "
   ]
  },
  {
   "cell_type": "code",
   "execution_count": 12,
   "metadata": {},
   "outputs": [
    {
     "name": "stdout",
     "output_type": "stream",
     "text": [
      "Customer Orders: {'mug', 'hat', 'book'}\n",
      "Order Status (Total Ordered, Percentage Ordered): (3, 60.0)\n",
      "Order Statistics:\n",
      "Total Products Ordered: 3\n",
      "Percentage of Products Ordered: 60.0%\n",
      "\n",
      "Inventario actualizado:\n",
      "t-shirt: 5\n",
      "mug: 6\n",
      "hat: 5\n",
      "book: 2\n",
      "keychain: 4\n"
     ]
    }
   ],
   "source": [
    "# 4. Create an empty set called `customer_orders`.\n",
    "customer_orders = set()\n",
    "\n",
    "# 5. Ask the user to input the names of three products that a customer wants to order (from those in the product list,\n",
    "# i.e., three products among \"t-shirt\", \"mug\", \"hat\", \"book\", or \"keychain\"). Add each product name to the `customer_orders` set.\n",
    "for x in range(3):\n",
    "    order = input(\"Enter the name of a product to order (t-shirt, mug, hat, book, keychain): \")\n",
    "    if order in products:\n",
    "        customer_orders.add(order)\n",
    "    else:\n",
    "        print(f\"{order} is not in the product list.\")\n",
    "\n",
    "#6. Print the products in the `customer_orders` set.\n",
    "print(\"Customer Orders:\", customer_orders)\n",
    "\n",
    "# 7. Calculate the following order statistics:\n",
    "#    - Total Products Ordered: The total number of products in the `customer_orders` set.\n",
    "#    - Percentage of Products Ordered: The percentage of products ordered compared to the total available products.\n",
    "#\n",
    "#    Store these statistics in a tuple called `order_status`.\n",
    "\n",
    "total_products_ordered = len(customer_orders)\n",
    "percentage_ordered = (total_products_ordered / len(products)) * 100\n",
    "\n",
    "order_status = (total_products_ordered, percentage_ordered)\n",
    "\n",
    "#  8. Print the order statistics using the following format:\n",
    "#  ```\n",
    "#  Order Statistics:\n",
    "#  Total Products Ordered: <total_products_ordered>\n",
    "#  Percentage of Products Ordered: <percentage_ordered>% \n",
    "#  ```\n",
    "    \n",
    "print(\"Order Status (Total Ordered, Percentage Ordered):\", order_status)\n",
    "print(\"Order Statistics:\")\n",
    "print(f\"Total Products Ordered: {order_status[0]}\")\n",
    "print(f\"Percentage of Products Ordered: {order_status[1]}%\")\n",
    "\n",
    "# 9. Update the `inventory` dictionary by reducing the quantity of each product ordered by 1 (if the product is available in the inventory).\n",
    "# For each product in the `customer_orders` set, check if it exists in the `inventory` dictionary and if its quantity is greater than 0. \n",
    "# If so, reduce the quantity by 1.\n",
    "# If a product is not available (quantity is 0), do not reduce the quantity and print a message indicating that the product is out of stock.\n",
    "for product in customer_orders:\n",
    "    if product in inventory and inventory[product] > 0:\n",
    "        inventory[product] -= 1\n",
    "    else:\n",
    "        print(f\"{product} is out of stock.\")\n",
    "\n",
    "# 10. Print the updated inventory, showing the quantity of each product in separate lines.\n",
    "print(\"\\nInventario actualizado:\")\n",
    "\n",
    "for item, quantity in inventory.items():\n",
    "    print(f\"{item}: {quantity}\")\n",
    "  "
   ]
  }
 ],
 "metadata": {
  "kernelspec": {
   "display_name": "Python 3",
   "language": "python",
   "name": "python3"
  },
  "language_info": {
   "codemirror_mode": {
    "name": "ipython",
    "version": 3
   },
   "file_extension": ".py",
   "mimetype": "text/x-python",
   "name": "python",
   "nbconvert_exporter": "python",
   "pygments_lexer": "ipython3",
   "version": "3.12.9"
  }
 },
 "nbformat": 4,
 "nbformat_minor": 4
}
